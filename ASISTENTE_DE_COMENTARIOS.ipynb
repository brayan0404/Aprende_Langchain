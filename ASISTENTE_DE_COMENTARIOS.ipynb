{
  "nbformat": 4,
  "nbformat_minor": 0,
  "metadata": {
    "colab": {
      "provenance": [],
      "authorship_tag": "ABX9TyOg+s6+di6WkTUSmpkMhqGy",
      "include_colab_link": true
    },
    "kernelspec": {
      "name": "python3",
      "display_name": "Python 3"
    },
    "language_info": {
      "name": "python"
    }
  },
  "cells": [
    {
      "cell_type": "markdown",
      "metadata": {
        "id": "view-in-github",
        "colab_type": "text"
      },
      "source": [
        "<a href=\"https://colab.research.google.com/github/brayan0404/Aprende_Langchain/blob/main/ASISTENTE_DE_COMENTARIOS.ipynb\" target=\"_parent\"><img src=\"https://colab.research.google.com/assets/colab-badge.svg\" alt=\"Open In Colab\"/></a>"
      ]
    },
    {
      "cell_type": "markdown",
      "source": [
        "# **ASISTENTE DE COMENTARIOS DE TIENDA VIRTUAL (STOREGPT)**\n",
        "\n",
        "\n",
        "**STOREGPT** es un asistente virtual que responde a los comentarios que los clientes hacen sobre los productos de una tienda virtual.\n",
        "\n",
        "El modelo fue entrenado para responder de forma amable, optimista y colaborativa. Ademas, por mucho que el comentario del cliente sea negativo, storegpt jamas responderá de mala forma.\n",
        "\n",
        "Debido a que la plantilla de productos o servicios que vende la empresa es variable, no se entrenó a esta herramienta para tener un conocimiento profundo de cada uno de ellos, sino que los trata de forma generalizada.\n",
        "\n",
        "Aqui se dejan algunos ejemplos de comentarios reales con los que se ha probado la capacidad de respuesta de este modelo de llm.\n",
        "\n",
        "**Comentario:** No cumplió con las expectativas deja mucho que desear no es smartwatch simplemente da la hora las funciones\n",
        "de medir el piso el sueño etc son falsas, la pantalla no es táctil la batería dura muy poco. Básicamente sirve de adorno.\n",
        "\n",
        "**Respuesta:**  Lamentamos mucho que hayas tenido una experiencia decepcionante con nuestro producto. Estamos trabajando para\n",
        "mejorar la calidad de nuestros productos a fin de que nuestros clientes estén satisfechos. Si tienes alguna otra\n",
        "pregunta o sugerencia, no dudes en contactarnos. ¡Siempre estamos aquí para ayudarte!\n",
        "\n",
        "\n",
        "**Comentario:** Cómoda pero sus instrucciones no son fáciles de interpretar para su armado. El espaldar es para reposar\n",
        "sin soportar totalmente el peso de la espalda por lo que si busca que sea de espaldar rígido, es mejor adquirir una\n",
        "silla de comedor. De resto la calidad de la espuma de la silla es muy buena y no es relevante que en la foto aparezca\n",
        "con el pulpo metálico y me llegue de color negro en plástico. No sé si por mi peso, siento que la silla está ladeada a\n",
        "un lado o es cuestión de acostumbrarme a usarla más seguido.\n",
        "\n",
        "**Respuesta:**  Gracias por tu comentario. Estamos trabajando para mejorar nuestras instrucciones de armado para que sean más\n",
        "fáciles de entender. Estamos contentos de que hayas disfrutado de la calidad de la espuma de la silla.\n",
        "Si sientes que la silla está ladeada, te recomendamos que la uses con más frecuencia para acostumbrarte a ella.\n",
        "Si tienes alguna otra pregunta, no dudes en contactarnos."
      ],
      "metadata": {
        "id": "gZwG8q5h_I1f"
      }
    },
    {
      "cell_type": "markdown",
      "source": [
        "# **INSTALATIONS, IMPORTS AND API KEY SETUP**"
      ],
      "metadata": {
        "id": "UqgjNJiab_hI"
      }
    },
    {
      "cell_type": "code",
      "execution_count": null,
      "metadata": {
        "id": "uslF1YknZU-v"
      },
      "outputs": [],
      "source": [
        "!pip install langchain\n",
        "!pip install openai"
      ]
    },
    {
      "cell_type": "code",
      "source": [
        "from langchain.llms import OpenAI\n",
        "from langchain.prompts import PromptTemplate, FewShotPromptTemplate\n",
        "from langchain.chains import LLMChain"
      ],
      "metadata": {
        "id": "JDzx0PZxZgt-"
      },
      "execution_count": null,
      "outputs": []
    },
    {
      "cell_type": "code",
      "source": [
        "import os\n",
        "os.environ[\"OPENAI_API_KEY\"] = \"coloca_tu_clave_de_openai_api_key_aqui\""
      ],
      "metadata": {
        "id": "QASloH8Da3ZA"
      },
      "execution_count": 2,
      "outputs": []
    },
    {
      "cell_type": "markdown",
      "source": [
        "# **LLM**"
      ],
      "metadata": {
        "id": "-Sx6Ff4pcNRt"
      }
    },
    {
      "cell_type": "code",
      "source": [
        "llm = OpenAI(\n",
        "    openai_api_key = \"OPENAI_API_KEY\",\n",
        "    model_name = \"text-davinci-003\",\n",
        ")"
      ],
      "metadata": {
        "id": "bbGkcH87a6vo"
      },
      "execution_count": null,
      "outputs": []
    },
    {
      "cell_type": "code",
      "source": [
        "llm = OpenAI(temperature=0.3)"
      ],
      "metadata": {
        "id": "wjq5GkwMboM1"
      },
      "execution_count": null,
      "outputs": []
    },
    {
      "cell_type": "markdown",
      "source": [
        "# **TEMPLATE**"
      ],
      "metadata": {
        "id": "rF89HEVpcdC-"
      }
    },
    {
      "cell_type": "code",
      "source": [
        "examples = [{\n",
        "        \"query\":\"Es desepcionante, el producto que recibes es distinto al de la foto\",\n",
        "        \"answer\": \"Lo sentimos mucho, ponte en contacto con servicio al cliente para solucionar tu problema\"\n",
        "    }, {\n",
        "        \"query\": \"Hola, si varios productos me hacen una rebaja\",\n",
        "        \"answer\": \"Por supuesto, contacte con nuestros asesores para conseguir promociones\"\n",
        "    }, {\n",
        "        \"query\": \"Deberian repartir con mas rapidez los productos\",\n",
        "        \"answer\": \"GRacias por tu recomendacion la tendremos en cuenta\"\n",
        "    }, {\n",
        "        \"query\": \"Lo mejor de lo mejor, compralo, no te vas a arrepentir\",\n",
        "        \"answer\": \"Ustedes Nuestros clientes son lo mejores. Estamos aqui para darles felicidad.\"\n",
        "    },\n",
        "    ]"
      ],
      "metadata": {
        "id": "J7fk76h0hhSR"
      },
      "execution_count": 1,
      "outputs": []
    },
    {
      "cell_type": "code",
      "source": [
        "template = \"\"\"\n",
        "User: {query}\n",
        "AI: {answer}\n",
        "\n",
        "\"\"\""
      ],
      "metadata": {
        "id": "pV3lTJt-cl1N"
      },
      "execution_count": null,
      "outputs": []
    },
    {
      "cell_type": "code",
      "source": [
        "example_prompt = PromptTemplate(\n",
        "    input_variables=[\"query\", \"answer\"],\n",
        "    template = template,\n",
        ")"
      ],
      "metadata": {
        "id": "PHLAkyFudKSq"
      },
      "execution_count": null,
      "outputs": []
    },
    {
      "cell_type": "code",
      "source": [
        "prefix = \"\"\"Tu eres un asistente que se encarga de reponder los comentarios de los clientes de una tienda virtual que vende\n",
        "una variedad de productos y servicios.\n",
        "Te proporcianare una lista de ejemplos\n",
        "Eres amable y colaborativo y ademas optimista.\n",
        "Tus respuestas no son muy largas\n",
        "\"\"\""
      ],
      "metadata": {
        "id": "oiGs22eqd2nV"
      },
      "execution_count": null,
      "outputs": []
    },
    {
      "cell_type": "code",
      "source": [
        "suffix = \"\"\"\n",
        "User: {query}\n",
        "AI:\n",
        "\"\"\""
      ],
      "metadata": {
        "id": "DxTaDkyYetlH"
      },
      "execution_count": null,
      "outputs": []
    },
    {
      "cell_type": "code",
      "source": [
        "example_template = FewShotPromptTemplate(\n",
        "    examples= examples,\n",
        "    example_prompt=example_prompt,\n",
        "    prefix=prefix,\n",
        "    suffix=suffix,\n",
        "    input_variables=[\"query\"],\n",
        "    example_separator=\"/n/n\"\n",
        ")"
      ],
      "metadata": {
        "id": "yVPJZWrCe8gT"
      },
      "execution_count": null,
      "outputs": []
    },
    {
      "cell_type": "markdown",
      "source": [
        "# **LLMChain**"
      ],
      "metadata": {
        "id": "M_1IKjkyni5T"
      }
    },
    {
      "cell_type": "code",
      "source": [
        "chain = LLMChain(\n",
        "    llm = llm,\n",
        "    prompt=example_template\n",
        ")"
      ],
      "metadata": {
        "id": "zrwmcpkcnh0r"
      },
      "execution_count": null,
      "outputs": []
    },
    {
      "cell_type": "code",
      "source": [
        "chain.run(\"La mejor calidad la encontraras aqui\")"
      ],
      "metadata": {
        "colab": {
          "base_uri": "https://localhost:8080/",
          "height": 70
        },
        "id": "PvZ7VuuSsKlu",
        "outputId": "bd216a57-3edf-4919-dfc2-03e931bd0b82"
      },
      "execution_count": null,
      "outputs": [
        {
          "output_type": "execute_result",
          "data": {
            "text/plain": [
              "'Estamos muy contentos de que hayas encontrado la mejor calidad aquí. Estamos comprometidos a ofrecer siempre productos de alta calidad para satisfacer las necesidades de nuestros clientes. Si tienes alguna otra pregunta, no dudes en contactarnos. ¡Siempre estamos aquí para ayudarte!'"
            ],
            "application/vnd.google.colaboratory.intrinsic+json": {
              "type": "string"
            }
          },
          "metadata": {},
          "execution_count": 126
        }
      ]
    }
  ]
}